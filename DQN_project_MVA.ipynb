{
 "cells": [
  {
   "cell_type": "markdown",
   "metadata": {},
   "source": [
    "**You may need to install [OpenCV](https://pypi.python.org/pypi/opencv-python) and [scikit-video](http://www.scikit-video.org/stable/).**"
   ]
  },
  {
   "cell_type": "code",
   "execution_count": 1,
   "metadata": {},
   "outputs": [
    {
     "name": "stderr",
     "output_type": "stream",
     "text": [
      "C:\\Users\\User\\Anaconda3\\lib\\site-packages\\h5py\\__init__.py:36: FutureWarning: Conversion of the second argument of issubdtype from `float` to `np.floating` is deprecated. In future, it will be treated as `np.float64 == np.dtype(float).type`.\n",
      "  from ._conv import register_converters as _register_converters\n",
      "Using TensorFlow backend.\n"
     ]
    }
   ],
   "source": [
    "import keras\n",
    "import numpy as np\n",
    "import io\n",
    "import base64\n",
    "from IPython.display import HTML\n",
    "import skvideo.io\n",
    "import cv2\n",
    "import json\n",
    "\n",
    "from keras.models import Sequential,model_from_json\n",
    "from keras.layers.core import Dense, Flatten, Dropout\n",
    "from keras.optimizers import sgd,Adam\n",
    "from keras.layers import Conv2D, MaxPooling2D, Activation, AveragePooling2D,Reshape,BatchNormalization\n",
    "from random import sample,choice"
   ]
  },
  {
   "cell_type": "markdown",
   "metadata": {},
   "source": [
    "# MiniProject #3: Deep Reinforcement Learning"
   ]
  },
  {
   "cell_type": "markdown",
   "metadata": {},
   "source": [
    "__Notations__: $E_p$ is the expectation under probability $p$. Please justify each of your answer and widely comment your code."
   ]
  },
  {
   "cell_type": "markdown",
   "metadata": {},
   "source": [
    "# Context"
   ]
  },
  {
   "cell_type": "markdown",
   "metadata": {},
   "source": [
    "In a reinforcement learning algorithm, we modelize each step $t$ as an action $a_t$ obtained from a state $s_t$, i.e. $\\{(a_{t},s_{t})_{t\\leq T}\\}$ having the Markov property. We consider a discount factor $\\gamma \\in [0,1]$ that ensures convergence. The goal is to find among all the policies $\\pi$, one that maximizes the expected reward:\n",
    "\n",
    "\\begin{equation*}\n",
    "R(\\pi)=\\sum_{t\\leq T}E_{p^{\\pi}}[\\gamma^t r(s_{t},a_{t})] \\> ,\n",
    "\\end{equation*}\n",
    "\n",
    "where: \n",
    "\\begin{equation*}p^{\\pi}(a_{0},a_{1},s_{1},...,a_{T},s_{T})=p(a_{0})\\prod_{t=1}^{T}\\pi(a_{t}|s_{t})p(s_{t+1}|s_{t},a_{t}) \\> .\n",
    "\\end{equation*}\n",
    "\n",
    "We note the $Q$-function:\n",
    "\n",
    "\\begin{equation*}Q^\\pi(s,a)=E_{p^{\\pi}}[\\sum_{t\\leq T}\\gamma^{t}r(s_{t},a_{t})|s_{0}=s,a_{0}=a] \\> .\n",
    "\\end{equation*}\n",
    "\n",
    "Thus, the optimal Q function is:\n",
    "\\begin{equation*}\n",
    "Q^*(s,a)=\\max_{\\pi}Q^\\pi(s,a) \\> .\n",
    "\\end{equation*}\n",
    "\n",
    "In this project, we will apply the deep reinforcement learning techniques to a simple game: an agent will have to learn from scratch a policy that will permit it maximizing a reward."
   ]
  },
  {
   "cell_type": "markdown",
   "metadata": {},
   "source": [
    "## The environment, the agent and the game"
   ]
  },
  {
   "cell_type": "markdown",
   "metadata": {},
   "source": [
    "### The environment"
   ]
  },
  {
   "cell_type": "markdown",
   "metadata": {},
   "source": [
    "```Environment``` is an abstract class that represents the states, rewards, and actions to obtain the new state."
   ]
  },
  {
   "cell_type": "code",
   "execution_count": 2,
   "metadata": {},
   "outputs": [],
   "source": [
    "class Environment(object):\n",
    "    def __init__(self):\n",
    "        pass\n",
    "\n",
    "    def act(self, act):\n",
    "        \"\"\"\n",
    "        One can act on the environment and obtain its reaction:\n",
    "        - the new state\n",
    "        - the reward of the new state\n",
    "        - should we continue the game?\n",
    "\n",
    "        :return: state, reward, game_over\n",
    "        \"\"\"\n",
    "        pass\n",
    "\n",
    "\n",
    "    def reset(self):\n",
    "        \"\"\"\n",
    "        Reinitialize the environment to a random state and returns\n",
    "        the original state\n",
    "\n",
    "        :return: state\n",
    "        \"\"\"\n",
    "        pass\n",
    "    \n",
    "    def draw(self):\n",
    "        \"\"\"\n",
    "        Visualize in the console or graphically the current state\n",
    "        \"\"\"\n",
    "        pass"
   ]
  },
  {
   "cell_type": "markdown",
   "metadata": {},
   "source": [
    "The method ```act``` allows to act on the environment at a given state $s_t$ (stored internally), via action $a_t$. The method will return the new state $s_{t+1}$, the reward $r(s_{t},a_{t})$ and determines if $t\\leq T$ (*game_over*).\n",
    "\n",
    "The method ```reset``` simply reinitializes the environment to a random state $s_0$.\n",
    "\n",
    "The method ```draw``` displays the current state $s_t$ (this is useful to check the behavior of the Agent).\n",
    "\n",
    "We modelize $s_t$ as a tensor, while $a_t$ is an integer."
   ]
  },
  {
   "cell_type": "markdown",
   "metadata": {},
   "source": [
    "### The Agent"
   ]
  },
  {
   "cell_type": "markdown",
   "metadata": {},
   "source": [
    "The goal of the ```Agent``` is to interact with the ```Environment``` by proposing actions $a_t$ obtained from a given state $s_t$ to attempt to maximize its __reward__ $r(s_t,a_t)$. We propose the following abstract class:"
   ]
  },
  {
   "cell_type": "code",
   "execution_count": 3,
   "metadata": {},
   "outputs": [],
   "source": [
    "class Agent(object):\n",
    "    def __init__(self, epsilon=0.1, n_action=4):\n",
    "        self.epsilon = epsilon\n",
    "        self.n_action = n_action\n",
    "    \n",
    "    def set_epsilon(self,e):\n",
    "        self.epsilon = e\n",
    "\n",
    "    def act(self,s,train=True):\n",
    "        \"\"\" This function should return the next action to do:\n",
    "        an integer between 0 and 4 (not included) with a random exploration of epsilon\"\"\"\n",
    "        if train:\n",
    "            if np.random.rand() <= self.epsilon:\n",
    "                a = np.random.randint(0, self.n_action, size=1)[0]\n",
    "            else:\n",
    "                a = self.learned_act(s)\n",
    "        else: # in some cases, this can improve the performance.. remove it if poor performances\n",
    "            a = self.learned_act(s)\n",
    "\n",
    "        return a\n",
    "\n",
    "    def learned_act(self,s):\n",
    "        \"\"\" Act via the policy of the agent, from a given state s\n",
    "        it proposes an action a\"\"\"\n",
    "        pass\n",
    "\n",
    "    def reinforce(self, s, n_s, a, r, game_over_):\n",
    "        \"\"\" This function is the core of the learning algorithm. \n",
    "        It takes as an input the current state s_, the next state n_s_\n",
    "        the action a_ used to move from s_ to n_s_ and the reward r_.\n",
    "        \n",
    "        Its goal is to learn a policy.\n",
    "        \"\"\"\n",
    "        pass\n",
    "\n",
    "    def save(self):\n",
    "        \"\"\" This function returns basic stats if applicable: the\n",
    "        loss and/or the model\"\"\"\n",
    "        pass\n",
    "\n",
    "    def load(self):\n",
    "        \"\"\" This function allows to restore a model\"\"\"\n",
    "        pass"
   ]
  },
  {
   "cell_type": "markdown",
   "metadata": {},
   "source": [
    "***\n",
    "__Question 1__:\n",
    "Explain the function act. Why is ```epsilon``` essential?"
   ]
  },
  {
   "cell_type": "markdown",
   "metadata": {},
   "source": [
    "The function 'act' determines the next action that the algorithm will take given the current state. The algorithm chooses between exploration or exploitation based on the value of epsilon. Epsilon controls how much the algorithm should rely on past information. If the random integer generated is less than epsilon, exploration is done and a random action from 1 to 4 is chosen. However if not, then the action taken is based on the defined policy(exploitation). The value of epsilon is critical as it defines the trade off between exploration and exploitation. Setting a low value would generate low probability of exploration and higher exploitation. This would be ideal in a case where the optimal policy has been defined. However, if we are still tuning the policy it might be better to balance both exploration and exploitation in order to implement a better algorithm. "
   ]
  },
  {
   "cell_type": "markdown",
   "metadata": {},
   "source": [
    "***\n",
    "### The Game"
   ]
  },
  {
   "cell_type": "markdown",
   "metadata": {},
   "source": [
    "The ```Agent``` and the ```Environment``` work in an interlaced way as in the following (take some time to understand this code as it is the core of the project)\n",
    "\n",
    "```python\n",
    "\n",
    "epoch = 300\n",
    "env = Environment()\n",
    "agent = Agent()\n",
    "\n",
    "\n",
    "# Number of won games\n",
    "score = 0\n",
    "loss = 0\n",
    "\n",
    "\n",
    "for e in range(epoch):\n",
    "    # At each epoch, we restart to a fresh game and get the initial state\n",
    "    state = env.reset()\n",
    "    # This assumes that the games will end\n",
    "    game_over = False\n",
    "\n",
    "    win = 0\n",
    "    lose = 0\n",
    "    \n",
    "    while not game_over:\n",
    "        # The agent performs an action\n",
    "        action = agent.act(state)\n",
    "\n",
    "        # Apply an action to the environment, get the next state, the reward\n",
    "        # and if the games end\n",
    "        prev_state = state\n",
    "        state, reward, game_over = env.act(action)\n",
    "\n",
    "        # Update the counters\n",
    "        if reward > 0:\n",
    "            win = win + reward\n",
    "        if reward < 0:\n",
    "            lose = lose -reward\n",
    "\n",
    "        # Apply the reinforcement strategy\n",
    "        loss = agent.reinforce(prev_state, state,  action, reward, game_over)\n",
    "\n",
    "    # Save as a mp4\n",
    "    if e % 10 == 0:\n",
    "        env.draw(e)\n",
    "\n",
    "    # Update stats\n",
    "    score += win-lose\n",
    "\n",
    "    print(\"Epoch {:03d}/{:03d} | Loss {:.4f} | Win/lose count {}/{} ({})\"\n",
    "          .format(e, epoch, loss, win, lose, win-lose))\n",
    "    agent.save()\n",
    "```"
   ]
  },
  {
   "cell_type": "markdown",
   "metadata": {},
   "source": [
    "# The game, *eat cheese*"
   ]
  },
  {
   "cell_type": "markdown",
   "metadata": {},
   "source": [
    "A rat runs on an island and tries to eat as much as possible. The island is subdivided into $N\\times N$ cells, in which there are cheese (+0.5) and poisonous cells (-1). The rat has a visibility of 2 cells (thus it can see $5^2$ cells). The rat is given a time $T$ to accumulate as much food as possible. It can perform 4 actions: going up, down, left, right. \n",
    "\n",
    "The goal is to code an agent to solve this task that will learn by trial and error. We propose the following environment:"
   ]
  },
  {
   "cell_type": "code",
   "execution_count": 5,
   "metadata": {},
   "outputs": [],
   "source": [
    "class Environment(object):\n",
    "    def __init__(self, grid_size=10, max_time=500, temperature=0.1):\n",
    "        \"\"\" why +4 for grid size \"\"\"\n",
    "        grid_size = grid_size+4 \n",
    "        self.grid_size = grid_size\n",
    "        self.max_time = max_time\n",
    "        self.temperature = temperature\n",
    "\n",
    "        #board on which one plays\n",
    "        self.board = np.zeros((grid_size,grid_size))\n",
    "        self.position = np.zeros((grid_size,grid_size))\n",
    "\n",
    "        # coordinate of the cat\n",
    "        self.x = 0\n",
    "        self.y = 1\n",
    "\n",
    "        # self time\n",
    "        self.t = 0\n",
    "\n",
    "        self.scale=16\n",
    "\n",
    "        self.to_draw = np.zeros((max_time+2, grid_size*self.scale, grid_size*self.scale, 3))\n",
    "\n",
    "\n",
    "    def draw(self,e):\n",
    "        skvideo.io.vwrite(str(e) + '.mp4', self.to_draw)\n",
    "\n",
    "    def get_frame(self,t):\n",
    "        b = np.zeros((self.grid_size,self.grid_size,3))+128\n",
    "        b[self.board>0,0] = 256\n",
    "        b[self.board < 0, 2] = 256\n",
    "        b[self.x,self.y,:]=256\n",
    "        b[-2:,:,:]=0\n",
    "        b[:,-2:,:]=0\n",
    "        b[:2,:,:]=0\n",
    "        b[:,:2,:]=0\n",
    "        \n",
    "        b =  cv2.resize(b, None, fx=self.scale, fy=self.scale, interpolation=cv2.INTER_NEAREST)\n",
    "\n",
    "        self.to_draw[t,:,:,:]=b\n",
    "\n",
    "\n",
    "    def act(self, action):\n",
    "        \"\"\"This function returns the new state, reward and decides if the\n",
    "        game ends.\"\"\"\n",
    "\n",
    "        self.get_frame(int(self.t))\n",
    "\n",
    "        self.position = np.zeros((self.grid_size, self.grid_size))\n",
    "        \n",
    "        \"\"\"\"R- Possibly setting the edges of the board with a penalty of -1 to teach the algorithm that it is the corner of the board  \"\"\"\n",
    "        self.position[0:2,:]= -1\n",
    "        self.position[:,0:2] = -1\n",
    "        self.position[-2:, :] = -1\n",
    "        self.position[:, -2:] = -1\n",
    "        \n",
    "        \"\"\"R-Setting position of the cat\"\"\"\n",
    "        self.position[self.x, self.y] = 1\n",
    "        \n",
    "        if action == 0:\n",
    "            if self.x == self.grid_size-3:\n",
    "                self.x = self.x-1\n",
    "            else:\n",
    "                self.x = self.x + 1\n",
    "        elif action == 1:\n",
    "            if self.x == 2:\n",
    "                self.x = self.x+1\n",
    "            else:\n",
    "                self.x = self.x-1\n",
    "        elif action == 2:\n",
    "            if self.y == self.grid_size - 3:\n",
    "                self.y = self.y - 1\n",
    "            else:\n",
    "                self.y = self.y + 1\n",
    "        elif action == 3:\n",
    "            if self.y == 2:\n",
    "                self.y = self.y + 1\n",
    "            else:\n",
    "                self.y = self.y - 1\n",
    "        else:\n",
    "            RuntimeError('Error: action not recognized')\n",
    "\n",
    "        self.t = self.t + 1\n",
    "        reward = self.board[self.x, self.y]\n",
    "        self.board[self.x, self.y] = 0\n",
    "        game_over = self.t > self.max_time\n",
    "        state = np.concatenate((self.board.reshape(self.grid_size, self.grid_size,1),\n",
    "                        self.position.reshape(self.grid_size, self.grid_size,1)),axis=2)\n",
    "        state = state[self.x-2:self.x+3,self.y-2:self.y+3,:]\n",
    "\n",
    "        return state, reward, game_over\n",
    "\n",
    "    def reset(self):\n",
    "        \"\"\"This function resets the game and returns the initial state\"\"\"\n",
    "\n",
    "        self.x = np.random.randint(3, self.grid_size-3, size=1)[0]\n",
    "        self.y = np.random.randint(3, self.grid_size-3, size=1)[0]\n",
    "\n",
    "\n",
    "        bonus = 0.5*np.random.binomial(1,self.temperature,size=self.grid_size**2)\n",
    "        bonus = bonus.reshape(self.grid_size,self.grid_size)\n",
    "\n",
    "        malus = -1.0*np.random.binomial(1,self.temperature,size=self.grid_size**2)\n",
    "        malus = malus.reshape(self.grid_size, self.grid_size)\n",
    "\n",
    "        self.to_draw = np.zeros((self.max_time+2, self.grid_size*self.scale, self.grid_size*self.scale, 3))\n",
    "\n",
    "\n",
    "        malus[bonus>0]=0\n",
    "\n",
    "        self.board = bonus + malus\n",
    "\n",
    "        self.position = np.zeros((self.grid_size, self.grid_size))\n",
    "        self.position[0:2,:]= -1\n",
    "        self.position[:,0:2] = -1\n",
    "        self.position[-2:, :] = -1\n",
    "        self.position[-2:, :] = -1\n",
    "        self.board[self.x,self.y] = 0\n",
    "        self.t = 0\n",
    "\n",
    "        state = np.concatenate((\n",
    "                               self.board.reshape(self.grid_size, self.grid_size,1),\n",
    "                        self.position.reshape(self.grid_size, self.grid_size,1)),axis=2)\n",
    "\n",
    "        state = state[self.x - 2:self.x + 3, self.y - 2:self.y + 3, :]\n",
    "        #print(\"State shape is \",state.shape)\n",
    "        return state"
   ]
  },
  {
   "cell_type": "markdown",
   "metadata": {},
   "source": [
    "The following elements are important because they correspond to the hyper parameters for this project:"
   ]
  },
  {
   "cell_type": "code",
   "execution_count": 6,
   "metadata": {},
   "outputs": [],
   "source": [
    "# parameters\n",
    "size = 13\n",
    "T=200\n",
    "temperature=0.3\n",
    "epochs_train=40 # set small when debugging\n",
    "epochs_test=10 # set small when debugging\n",
    "\n",
    "# display videos\n",
    "def display_videos(name):\n",
    "    video = io.open(name, 'r+b').read()\n",
    "    encoded = base64.b64encode(video)\n",
    "    return '''<video alt=\"test\" controls>\n",
    "                <source src=\"data:video/mp4;base64,{0}\" type=\"video/mp4\" />\n",
    "             </video>'''.format(encoded.decode('ascii'))"
   ]
  },
  {
   "cell_type": "markdown",
   "metadata": {},
   "source": [
    "__Question 2__ Explain the use of the arrays ```position``` and ```board```."
   ]
  },
  {
   "cell_type": "markdown",
   "metadata": {},
   "source": [
    "Board is used to set the reward template of the board. It has values corresponding to the reward (bonus if cheese is present and negative score for the poisonous cells). Whenever the rat moves to a cell on the board with cheese/poison present, the cell value on the board is then set to 0. This is how the game progresses. \n",
    "\n",
    "Position array is used to trace the position of the rat. The cell where the rat is present is given a value of 1. Tthe positions beyond the board which the rat can see but can't go are given a -1 and where it can move is given a 0."
   ]
  },
  {
   "cell_type": "markdown",
   "metadata": {},
   "source": [
    "## Random Agent"
   ]
  },
  {
   "cell_type": "markdown",
   "metadata": {},
   "source": [
    "***\n",
    "__Question 3__ Implement a random Agent (only ```learned_act``` needs to be implemented):"
   ]
  },
  {
   "cell_type": "code",
   "execution_count": 7,
   "metadata": {},
   "outputs": [],
   "source": [
    "class RandomAgent(Agent):\n",
    "    def __init__(self):\n",
    "        super(RandomAgent, self).__init__()\n",
    "        \"\"\"Pasting Agent constructor for quick reference \n",
    "        def __init__(self, epsilon=0.1, n_action=4):\n",
    "        self.epsilon = epsilon\n",
    "        self.n_action = n_action \"\"\"\n",
    "        pass\n",
    "\n",
    "    def learned_act(self, s):\n",
    "        #Random Agent would move randomly irrespective of state. only exploration\n",
    "        a = np.random.randint(0, self.n_action, size=1)[0]   \n",
    "        return a\n",
    "        pass"
   ]
  },
  {
   "cell_type": "markdown",
   "metadata": {},
   "source": [
    "***\n",
    "***\n",
    "__Question 4__ Visualize the game moves. You need to fill in the following function for the evaluation:"
   ]
  },
  {
   "cell_type": "code",
   "execution_count": 8,
   "metadata": {},
   "outputs": [],
   "source": [
    "def test(agent,env,epochs,prefix=''):\n",
    "    # Number of won games\n",
    "    score = 0\n",
    "        \n",
    "    for e in range(epochs):\n",
    "        \n",
    "         ##### FILL IN HERE\n",
    "        \n",
    "        # At each epoch, we restart to a fresh game and get the initial state\n",
    "        state = env.reset()\n",
    "        # This assumes that the games will end\n",
    "        game_over = False\n",
    "\n",
    "        win = 0\n",
    "        lose = 0\n",
    "    \n",
    "        while not game_over:\n",
    "            # The agent performs an action\n",
    "            action = agent.learned_act(state)\n",
    "\n",
    "            # Apply an action to the environment, get the next state, the reward\n",
    "            # and if the games end\n",
    "            prev_state = state\n",
    "            state, reward, game_over = env.act(action)\n",
    "\n",
    "            # Update the counters\n",
    "            if reward > 0:\n",
    "                win = win + reward\n",
    "            if reward < 0:\n",
    "                lose = lose-reward\n",
    "                 \n",
    "        # Save as a mp4\n",
    "        env.draw(prefix + str(e))\n",
    "\n",
    "        # Update stats\n",
    "        score = score + win-lose\n",
    "\n",
    "        print(\"Win/lose count {}/{}. Average score ({})\"\n",
    "              .format(win, lose, score/(1+e)))\n",
    "    print('Final score: '+str(score/epochs))"
   ]
  },
  {
   "cell_type": "code",
   "execution_count": 47,
   "metadata": {},
   "outputs": [
    {
     "name": "stdout",
     "output_type": "stream",
     "text": [
      "Win/lose count 5.5/10.0. Average score (-4.5)\n",
      "Win/lose count 10.0/21.0. Average score (-7.75)\n",
      "Win/lose count 7.5/11.0. Average score (-6.333333333333333)\n",
      "Win/lose count 10.0/15.0. Average score (-6.0)\n",
      "Win/lose count 8.0/11.0. Average score (-5.4)\n",
      "Win/lose count 10.0/12.0. Average score (-4.833333333333333)\n",
      "Win/lose count 12.0/14.0. Average score (-4.428571428571429)\n",
      "Win/lose count 14.5/13.0. Average score (-3.6875)\n",
      "Win/lose count 12.5/14.0. Average score (-3.4444444444444446)\n",
      "Win/lose count 12.5/16.0. Average score (-3.45)\n",
      "Final score: -3.45\n"
     ]
    },
    {
     "data": {
      "text/html": [
       "<video alt=\"test\" controls>\n",
       "                <source src=\"data:video/mp4;base64,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\" type=\"video/mp4\" />\n",
       "             </video>"
      ],
      "text/plain": [
       "<IPython.core.display.HTML object>"
      ]
     },
     "execution_count": 47,
     "metadata": {},
     "output_type": "execute_result"
    }
   ],
   "source": [
    "# Initialize the game\n",
    "env = Environment(grid_size=size, max_time=T,temperature=temperature)\n",
    "\n",
    "# Initialize the agent!\n",
    "agent = RandomAgent()\n",
    "\n",
    "test(agent,env,epochs_test,prefix='random')\n",
    "HTML(display_videos('random0.mp4'))"
   ]
  },
  {
   "cell_type": "markdown",
   "metadata": {},
   "source": [
    "***\n",
    "## DQN"
   ]
  },
  {
   "cell_type": "markdown",
   "metadata": {},
   "source": [
    "Let us assume here that $T=\\infty$.\n",
    "\n",
    "***\n",
    "__Question 5__ Let $\\pi$ be a policy, show that:\n",
    "\n",
    "\\begin{equation*}\n",
    "Q^{\\pi}(s,a)=E_{(s',a')\\sim p(.|s,a)}[r(s,a)+\\gamma Q^{\\pi}(s',a')]\n",
    "\\end{equation*}\n",
    "\n",
    "Then, show that for the optimal policy $\\pi^*$ (we assume its existence), the following holds: \n",
    "\n",
    "\\begin{equation*}\n",
    "Q^{*}(s,a)=E_{s'\\sim \\pi^*(.|s,a)}[r(s,a)+\\gamma\\max_{a'}Q^{*}(s',a')].\n",
    "\\end{equation*}\n",
    "Finally, deduce that a plausible objective is:\n",
    "\n",
    "\\begin{equation*}\n",
    "\\mathcal{L}(\\theta)=E_{s' \\sim \\pi^*(.|s,a)}\\Vert r+\\gamma\\max\\max_{a'}Q(s',a',\\theta)-Q(s,a,\\theta)\\Vert^{2}.\n",
    "\\end{equation*}\n",
    "\n",
    "\n"
   ]
  },
  {
   "cell_type": "markdown",
   "metadata": {},
   "source": [
    "\n",
    "1. \n",
    "$Q^\\pi(s,a) = E_\\pi \\Big[ \\overset{\\infty}{\\underset{k=0}{\\sum}} \\gamma^k r_{t+k} \\Big| s_t = s, a_t = a \\Big]$\n",
    "\n",
    "$= E\\Big[r(s,a) + \\overset{\\infty}{\\underset{k=1}{\\sum}} \\gamma^k r_{t+k} \\Big| s_t = s, a_t = a\\Big]$\n",
    "\n",
    "$ =  r(s,a) + \\gamma E\\left[E\\left[\\overset{\\infty}{\\underset{k=0}{\\sum}}[\\gamma^k r_{t+1+k}|s_{t+1}=s',a_{t+1}=a'\\right]|s_t = s, a_t = a\\right]$\n",
    "\n",
    "$ = r(s,a) + \\gamma \\underset{(s',a')}{\\sum}(p(s_{t+1}=s',a_{t+1}=a' |s_t = s, a_t = a ))*E[\\overset{\\infty}{\\underset{k=0}{\\sum}}\\gamma^k r_{t+1+k}|s_{t+1}=s',a_{t+1}=a']$\n",
    "\n",
    "$ =  \\underset{(s',a')}{\\sum} (p(s_{t+1}=s',a_{t+1}=a' |s_t = s, a_t = a ) r(s,a) + \\underset{(s',a')}{\\sum}(p(s_{t+1}=s',a_{t+1}=a' |s_t = s, a_t = a ))E[\\sum_{k=0}^{\\infty}\\gamma^k r_{t+1+k}|s_{t+1}=s',a_{t+1}=a']$\n",
    "\n",
    "$= E_{(s',a')\\sim p(.|s,a)}[r(s,a)+\\gamma Q^{\\pi}(s',a')]$\n",
    "\n",
    "$~$\n",
    "$~$\n",
    "\n",
    "2. \n",
    "$Q^*(s,a) = \\underset{(a',\\pi')}{\\max}\\left[E_{(s',a')\\sim p(.|s,a)}\\left(r(s,a)+\\gamma Q^{(a',\\pi')}(s',a')\\right)\\right] $\n",
    "\n",
    "$ = \\underset{(a',\\pi')}{\\max}\\left[r(s,a) + \\gamma \\sum(p(s_{t+1}=s' |s_t = s, a_t = a )Q^{(a',\\pi')}(s',a')\\right]$\n",
    "\n",
    "$= r(s,a) + \\gamma * \\underset{(a',\\pi')}{\\max}\\left[ \\sum(p(s_{t+1}=s' |s_t = s, a_t = a )Q^{(a',\\pi')}(s',a')\\right] $\n",
    "\n",
    "$~$ $~$\n",
    "\n",
    "3. Rewriting $Q^{*}(s,a)$ as\n",
    "\n",
    "$Q^{*}(s,a) = r(s,a) + \\gamma  \\overset{\\infty}{\\underset{k=0}{\\sum}}(p(s_{t+1}=s' |s_t = s, a_t = a )\\underset{a'}{\\max}\\underset{\\pi'}{\\max}Q^{\\pi'}(s',a') $ $= r(s,a) + \\gamma \\overset{\\infty}{\\underset{k=0}{\\sum}}(p(s_{t+1}=s' |s_t = s, a_t = a )\\underset{a'}{\\max} Q^{*}(s',a') $ $=E_{s'\\sim \\pi^*(.|s,a)}\\left[r(s,a)+\\gamma\\underset{a'}{\\max}Q^{*}(s',a')\\right]$\n",
    "$~$ $~$\n",
    "\n",
    "Objective function\n",
    "$\\mathcal{L}(\\theta)=E_{s' \\sim \\pi^*(.|s,a)}*\\Vert r+\\gamma\\max_{a'}\\left(Q(s',a',\\theta)-Q(s,a,\\theta)\\right)\\Vert^{2}$"
   ]
  },
  {
   "cell_type": "markdown",
   "metadata": {},
   "source": [
    "***\n",
    "The DQN-learning algorithm relies on these derivations to train the parameters $\\theta$ of a Deep Neural Network:\n",
    "\n",
    "1. At the state $s_t$, select the action $a_t$ with best reward using $Q_t$ and store the results;\n",
    "\n",
    "2. Obtain the new state $s_{t+1}$ from the environment $p$;\n",
    "\n",
    "3. Store $(s_t,a_t,s_{t+1})$;\n",
    "\n",
    "4. Obtain $Q_{t+1}$ by minimizing  $\\mathcal{L}$ from a recovered batch from the previously stored results.\n",
    "\n",
    "***\n",
    "__Question 6__ Implement the class ```Memory``` that stores moves (in a replay buffer) via ```remember``` and provides a ```random_access``` to these. Specify a maximum memory size to avoid side effects. You can for example use a ```list()``` and set by default ```max_memory=100```."
   ]
  },
  {
   "cell_type": "code",
   "execution_count": 9,
   "metadata": {},
   "outputs": [],
   "source": [
    "class Memory(object):\n",
    "    def __init__(self, max_memory=100):\n",
    "        self.max_memory = max_memory\n",
    "        self.memory = list()\n",
    "\n",
    "    def remember(self, m):\n",
    "        #Function appends each new move to the list 'memory' based on the available memory\n",
    "        #If memory is overshot, then delete the oldest move and append new one \n",
    "        self.memory.append(m)  \n",
    "        if len(self.memory)>self.max_memory:\n",
    "            self.memory.pop(0)\n",
    "        else:\n",
    "            pass\n",
    "\n",
    "    def random_access(self):\n",
    "        rand_loc = np.random.randint(len(self.memory), size=1)[0]\n",
    "        return self.memory[rand_loc]\n",
    "        pass"
   ]
  },
  {
   "cell_type": "markdown",
   "metadata": {},
   "source": [
    "***\n",
    "The pipeline we will use for training is given below:"
   ]
  },
  {
   "cell_type": "code",
   "execution_count": 10,
   "metadata": {},
   "outputs": [],
   "source": [
    "def train(agent,env,epoch,prefix=''):\n",
    "    # Number of won games\n",
    "    score = 0\n",
    "    loss = 0\n",
    "\n",
    "    for e in range(epoch):\n",
    "        # At each epoch, we restart to a fresh game and get the initial state\n",
    "        state = env.reset()\n",
    "        # This assumes that the games will terminate\n",
    "        game_over = False\n",
    "\n",
    "        win = 0\n",
    "        lose = 0\n",
    "\n",
    "        while not game_over:\n",
    "            # The agent performs an action\n",
    "            action = agent.act(state)\n",
    "\n",
    "            # Apply an action to the environment, get the next state, the reward\n",
    "            # and if the games end\n",
    "            prev_state = state\n",
    "            state, reward, game_over = env.act(action)\n",
    "\n",
    "            # Update the counters\n",
    "            if reward > 0:\n",
    "                win = win + reward\n",
    "            if reward < 0:\n",
    "                lose = lose -reward\n",
    "\n",
    "            # Apply the reinforcement strategy\n",
    "            loss = agent.reinforce(prev_state, state,  action, reward, game_over)\n",
    "\n",
    "        # Save as a mp4\n",
    "        if e % 10 == 0:\n",
    "            env.draw(prefix+str(e))\n",
    "\n",
    "        # Update stats\n",
    "        score += win-lose\n",
    "\n",
    "        print(\"Epoch {:03d}/{:03d} | Loss {:.4f} | Win/lose count {}/{} ({})\"\n",
    "              .format(e, epoch, loss, win, lose, win-lose))\n",
    "        agent.save(name_weights=prefix+'model.h5',name_model=prefix+'model.json')\n",
    "        \n",
    "    print('Final score: '+str(score/epoch))"
   ]
  },
  {
   "cell_type": "markdown",
   "metadata": {},
   "source": [
    "***\n",
    "__Question 7__ Implement the DQN training algorithm using a cascade of fully connected layers. You can use different learning rate, batch size or memory size parameters. In particular, the loss might oscillate while the player will start to win the games. You have to find a good criterium."
   ]
  },
  {
   "cell_type": "code",
   "execution_count": 11,
   "metadata": {},
   "outputs": [],
   "source": [
    "class DQN(Agent):\n",
    "    def __init__(self, grid_size,  epsilon = 0.1, memory_size=100, batch_size = 16,n_state=2):\n",
    "        super(DQN, self).__init__(epsilon = epsilon)\n",
    "\n",
    "        # Discount for Q learning\n",
    "        self.discount = 0.99\n",
    "        \n",
    "        self.grid_size = grid_size\n",
    "        \n",
    "        # number of state\n",
    "        self.n_state = n_state\n",
    "\n",
    "        # Memory\n",
    "        self.memory = Memory(memory_size)\n",
    "        \n",
    "        # Batch size when learning\n",
    "        self.batch_size = batch_size\n",
    "\n",
    "    def learned_act(self, s):\n",
    "        s = np.reshape(s,[1,5,5,self.n_state])\n",
    "        act_values = self.model.predict(s)\n",
    "        return np.argmax(act_values[0])\n",
    "\n",
    "    def reinforce(self, s_, n_s_, a_, r_, game_over_):\n",
    "        # Two steps: first memorize the states, second learn from the pool\n",
    "        \n",
    "        self.memory.remember([s_, n_s_, a_, r_, game_over_])\n",
    "        \n",
    "        input_states = np.zeros((self.batch_size, 5,5,self.n_state))\n",
    "        target_q = np.zeros((self.batch_size, 4))        \n",
    "              \n",
    "        for i in range(self.batch_size):\n",
    "            ######## FILL IN\n",
    "            s_, n_s_, a_, r_, game_over_=self.memory.random_access()\n",
    "            s_ = np.reshape(s_,[1,5,5,self.n_state])\n",
    "            n_s_ = np.reshape(n_s_,[1,5,5,self.n_state])\n",
    "            target_q[i] =self.model.predict(s_)[0]\n",
    "            input_states[i] = s_\n",
    "            if game_over_:\n",
    "                ######## FILL IN\n",
    "                target_q[i,a_] = r_\n",
    "            else:\n",
    "                ######## FILL IN\n",
    "                target_q[i,a_] = (r_ + (self.discount * np.amax(self.model.predict(n_s_)[0])))\n",
    "                \n",
    "        ######## FILL IN\n",
    "        # HINT: Clip the target to avoid exploiding gradients.. -- clipping is a bit tighter\n",
    "        target_q = np.clip(target_q, -3, 3)\n",
    "        l = self.model.train_on_batch(input_states, target_q)\n",
    "        return l\n",
    "\n",
    "    def save(self,name_weights='model.h5',name_model='model.json'):\n",
    "        self.model.save_weights(name_weights, overwrite=True)\n",
    "        with open(name_model, \"w\") as outfile:\n",
    "            json.dump(self.model.to_json(), outfile)\n",
    "            \n",
    "    def load(self,name_weights='model.h5',name_model='model.json'):\n",
    "        with open(name_model, \"r\") as jfile:\n",
    "            model = model_from_json(json.load(jfile))\n",
    "        model.load_weights(name_weights)\n",
    "        model.compile(\"sgd\", \"mse\")\n",
    "        self.model = model\n",
    "\n",
    "            \n",
    "class DQN_FC(DQN):\n",
    "    def __init__(self, *args, lr=0.1,**kwargs):\n",
    "        super(DQN_FC, self).__init__( *args,**kwargs)\n",
    "        \n",
    "       \n",
    "        # NN Model\n",
    "        model=Sequential()\n",
    "        model.add(Flatten(input_shape=(5,5,self.n_state,)))\n",
    "        #model.add(Dense(256,activation ='relu'))\n",
    "        model.add(Dense(128,activation ='relu'))\n",
    "        model.add(Dense(4))\n",
    "        #model.compile(sgd(lr=lr, decay=1e-4, momentum=0.0), \"mse\")\n",
    "        model.compile(loss='mse', optimizer=Adam(lr=lr))\n",
    "        self.model = model"
   ]
  },
  {
   "cell_type": "code",
   "execution_count": 86,
   "metadata": {},
   "outputs": [
    {
     "name": "stdout",
     "output_type": "stream",
     "text": [
      "Epoch 000/020 | Loss 0.0038 | Win/lose count 7.0/4.0 (3.0)\n",
      "Epoch 001/020 | Loss 0.0073 | Win/lose count 3.5/2.0 (1.5)\n",
      "Epoch 002/020 | Loss 0.0030 | Win/lose count 2.0/5.0 (-3.0)\n",
      "Epoch 003/020 | Loss 0.0041 | Win/lose count 3.0/8.0 (-5.0)\n",
      "Epoch 004/020 | Loss 0.0046 | Win/lose count 4.5/4.0 (0.5)\n",
      "Epoch 005/020 | Loss 0.0268 | Win/lose count 3.0/3.0 (0.0)\n",
      "Epoch 006/020 | Loss 0.0022 | Win/lose count 6.5/5.0 (1.5)\n",
      "Epoch 007/020 | Loss 0.0049 | Win/lose count 4.5/5.0 (-0.5)\n",
      "Epoch 008/020 | Loss 0.0044 | Win/lose count 9.0/1.0 (8.0)\n",
      "Epoch 009/020 | Loss 0.0101 | Win/lose count 9.5/1.0 (8.5)\n",
      "Epoch 010/020 | Loss 0.0060 | Win/lose count 11.0/4.0 (7.0)\n",
      "Epoch 011/020 | Loss 0.0628 | Win/lose count 4.0/4.0 (0.0)\n",
      "Epoch 012/020 | Loss 0.0024 | Win/lose count 8.5/3.0 (5.5)\n",
      "Epoch 013/020 | Loss 0.0021 | Win/lose count 3.0/3.0 (0.0)\n",
      "Epoch 014/020 | Loss 0.0064 | Win/lose count 12.0/5.0 (7.0)\n",
      "Epoch 015/020 | Loss 0.0057 | Win/lose count 12.0/4.0 (8.0)\n",
      "Epoch 016/020 | Loss 0.0044 | Win/lose count 4.0/4.0 (0.0)\n",
      "Epoch 017/020 | Loss 0.0031 | Win/lose count 13.0/2.0 (11.0)\n",
      "Epoch 018/020 | Loss 0.0056 | Win/lose count 13.0/4.0 (9.0)\n",
      "Epoch 019/020 | Loss 0.0020 | Win/lose count 11.0/1.0 (10.0)\n",
      "Final score: 3.6\n"
     ]
    },
    {
     "data": {
      "text/html": [
       "<video alt=\"test\" controls>\n",
       "                <source src=\"data:video/mp4;base64,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\" type=\"video/mp4\" />\n",
       "             </video>"
      ],
      "text/plain": [
       "<IPython.core.display.HTML object>"
      ]
     },
     "execution_count": 86,
     "metadata": {},
     "output_type": "execute_result"
    }
   ],
   "source": [
    "epochs_train=20\n",
    "env = Environment(grid_size=size, max_time=T, temperature=0.3)\n",
    "agent = DQN_FC(size, lr=.01, epsilon = 0.1, memory_size=2000, batch_size = 32)\n",
    "train(agent, env, epochs_train, prefix='fc_train')\n",
    "HTML(display_videos('fc_train10.mp4'))"
   ]
  },
  {
   "cell_type": "markdown",
   "metadata": {},
   "source": [
    "The other architectures tried were\n",
    "1. 1 hidden layer with output size 128\n",
    "2. 2 hidden layers with output size 256 and 128\n",
    "\n",
    "The model with just 1 hidden layer and a lower learning rate seemed to work out well and is the one I have used for 20 epochs in the above run "
   ]
  },
  {
   "cell_type": "markdown",
   "metadata": {},
   "source": [
    "| Optimizer | Train Epochs | Learning rate | Epsilon | Architecture | Final Score |\n",
    "| --- | --- | --- |\n",
    "| SGD | 10 | .1 | 0.1 | 1 | 0.45\n",
    "| SGD | 10 | .01 | 0.1 | 1 | -1.95\n",
    "| SGD | 10 | .1 | 0.2 | 1 | -1.45\n",
    "| Adam | 10 | .1 | 0.1 | 1 | -2.45\n",
    "| Adam | 10 | .1 | 0.5 | 1 | -3.55\n",
    "| **Adam** | **10** | **.01** | **0.1** | **1** | **2.25**\n",
    "| Adam | 10 | .01 | 0.2 | 1 | 1.5\n",
    "| Adam | 10 | .01 | 0.1 | 2 | 0.2\n",
    "| SGD | 10 | .01 | 0.1 | 2 | -1.25\n",
    "| SGD | 10 | .01 | 0.2 | 2 | -0.8\n",
    "| SGD | 10 | .1 | 0.1 | 2 | -0.5"
   ]
  },
  {
   "cell_type": "markdown",
   "metadata": {},
   "source": [
    "***\n",
    "***\n",
    "__Question 8__ Implement the DQN training algorithm using a CNN (for example, 2 convolutional layers and one final fully connected layer)."
   ]
  },
  {
   "cell_type": "code",
   "execution_count": 12,
   "metadata": {},
   "outputs": [],
   "source": [
    "class DQN_CNN(DQN):\n",
    "    def __init__(self, *args,lr=0.1,**kwargs):\n",
    "        super(DQN_CNN, self).__init__(*args,**kwargs)\n",
    "        \n",
    "        ###### FILL IN\n",
    "        model = Sequential()\n",
    "        model.add(Conv2D(64,(2,2),input_shape=(5,5,self.n_state,),activation='relu'))\n",
    "        model.add(Conv2D(32,(2,2),activation='relu'))\n",
    "        model.add(Dropout(0.2))\n",
    "        model.add(Flatten())\n",
    "        model.add(Dense(4))\n",
    "        #model.compile(loss='mse', optimizer=Adam(lr=lr))\n",
    "        model.compile(sgd(lr=lr, decay=1e-4, momentum=0.0), \"mse\")\n",
    "        self.model = model"
   ]
  },
  {
   "cell_type": "code",
   "execution_count": 19,
   "metadata": {},
   "outputs": [
    {
     "name": "stdout",
     "output_type": "stream",
     "text": [
      "Epoch 000/020 | Loss 0.0135 | Win/lose count 7.5/8.0 (-0.5)\n",
      "Epoch 001/020 | Loss 0.0057 | Win/lose count 6.0/3.0 (3.0)\n",
      "Epoch 002/020 | Loss 0.0145 | Win/lose count 2.0/1.0 (1.0)\n",
      "Epoch 003/020 | Loss 0.0046 | Win/lose count 5.0/3.0 (2.0)\n",
      "Epoch 004/020 | Loss 0.0103 | Win/lose count 5.5/4.0 (1.5)\n",
      "Epoch 005/020 | Loss 0.0137 | Win/lose count 7.0/3.0 (4.0)\n",
      "Epoch 006/020 | Loss 0.0117 | Win/lose count 4.0/2.0 (2.0)\n",
      "Epoch 007/020 | Loss 0.0148 | Win/lose count 6.0/3.0 (3.0)\n",
      "Epoch 008/020 | Loss 0.0128 | Win/lose count 4.0/3.0 (1.0)\n",
      "Epoch 009/020 | Loss 0.0123 | Win/lose count 2.5/3.0 (-0.5)\n",
      "Epoch 010/020 | Loss 0.0095 | Win/lose count 7.5/3.0 (4.5)\n",
      "Epoch 011/020 | Loss 0.0096 | Win/lose count 2.5/2.0 (0.5)\n",
      "Epoch 012/020 | Loss 0.0109 | Win/lose count 7.0/1.0 (6.0)\n",
      "Epoch 013/020 | Loss 0.0122 | Win/lose count 2.0/3.0 (-1.0)\n",
      "Epoch 014/020 | Loss 0.0135 | Win/lose count 8.5/3.0 (5.5)\n",
      "Epoch 015/020 | Loss 0.0408 | Win/lose count 7.0/3.0 (4.0)\n",
      "Epoch 016/020 | Loss 0.0067 | Win/lose count 7.5/2.0 (5.5)\n",
      "Epoch 017/020 | Loss 0.0124 | Win/lose count 17.5/2.0 (15.5)\n",
      "Epoch 018/020 | Loss 0.0070 | Win/lose count 2.5/0 (2.5)\n",
      "Epoch 019/020 | Loss 0.0447 | Win/lose count 6.0/2.0 (4.0)\n",
      "Final score: 3.175\n"
     ]
    },
    {
     "data": {
      "text/html": [
       "<video alt=\"test\" controls>\n",
       "                <source src=\"data:video/mp4;base64,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\" type=\"video/mp4\" />\n",
       "             </video>"
      ],
      "text/plain": [
       "<IPython.core.display.HTML object>"
      ]
     },
     "execution_count": 19,
     "metadata": {},
     "output_type": "execute_result"
    }
   ],
   "source": [
    "\n",
    "epochs_train=20\n",
    "env = Environment(grid_size=size, max_time=T, temperature=0.3)\n",
    "agent = DQN_CNN(size, lr=.1, epsilon = 0.1, memory_size=2000, batch_size = 32)\n",
    "train(agent,env,epochs_train,prefix='cnn_train')\n",
    "HTML(display_videos('cnn_train10.mp4'))"
   ]
  },
  {
   "cell_type": "markdown",
   "metadata": {},
   "source": [
    "Architectures tried\n",
    "1. 2 Convolutional layers 50,(2,2) and 30,(2,2) with relu activation\n",
    "2. Same architecture as 1 with dropout\n",
    "3. 2 Convolutional layers 64,(2,2) and 32,(2,2) with relu activation\n",
    "4. Same as 3 wth dropout\n",
    "5. 2 Convolutional layers 64,(2,2) with relu activation\n",
    "6. Same as 5 with dropout\n",
    "7. 2 Convolutional layers 32,(2,2) with relu activation\n",
    "8. Same as 7 with dropout"
   ]
  },
  {
   "cell_type": "markdown",
   "metadata": {},
   "source": [
    "| Optimizer | Train Epochs | Learning rate | Epsilon | Architecture | Final Score |\n",
    "| --- | --- | --- |\n",
    "| SGD | 20 | .1 | 0.1 | 1 | 3.3\n",
    "| SGD | 20 | .1 | 0.1 | 2 | 3.75\n",
    "| SGD | 20 | .1 | 0.1 | 4 | 2.65\n",
    "| SGD | 20 | .1 | 0.1 | 3 | 5.65\n",
    "| SGD | 20 | .1 | 0.2 | 3 | 3.65\n",
    "| SGD | 20 | .1 | 0.5 | 3 | 1.75\n",
    "| SGD | 20 | .1 | 0.1 | 5 | 2.65\n",
    "| SGD | 20 | .1 | 0.1 | 6 | 0.95\n",
    "| SGD | 20 | .1 | 0.1 | 8 | 7.3\n"
   ]
  },
  {
   "cell_type": "markdown",
   "metadata": {},
   "source": [
    "***\n",
    "***\n",
    "__Question 9__ Test both algorithms and compare their performances. Which issue(s) do you observe? Observe also different behaviors by changing the temperature."
   ]
  },
  {
   "cell_type": "code",
   "execution_count": 43,
   "metadata": {},
   "outputs": [
    {
     "name": "stdout",
     "output_type": "stream",
     "text": [
      "Test of the CNN\n",
      "Win/lose count 12.0/0. Average score (12.0)\n",
      "Win/lose count 9.0/0. Average score (10.5)\n",
      "Win/lose count 7.5/0. Average score (9.5)\n",
      "Win/lose count 8.0/0. Average score (9.125)\n",
      "Win/lose count 11.0/0. Average score (9.5)\n",
      "Win/lose count 8.5/0. Average score (9.333333333333334)\n",
      "Win/lose count 9.0/0. Average score (9.285714285714286)\n",
      "Win/lose count 14.5/0. Average score (9.9375)\n",
      "Win/lose count 2.0/1.0. Average score (8.944444444444445)\n",
      "Win/lose count 4.0/0. Average score (8.45)\n",
      "Final score: 8.45\n",
      "Test of the FC\n",
      "Win/lose count 6.0/0. Average score (6.0)\n",
      "Win/lose count 3.0/0. Average score (4.5)\n",
      "Win/lose count 0.5/0. Average score (3.1666666666666665)\n",
      "Win/lose count 1.0/0. Average score (2.625)\n",
      "Win/lose count 3.0/0. Average score (2.7)\n",
      "Win/lose count 2.0/0. Average score (2.5833333333333335)\n",
      "Win/lose count 2.0/0. Average score (2.5)\n",
      "Win/lose count 2.0/0. Average score (2.4375)\n",
      "Win/lose count 2.5/0. Average score (2.4444444444444446)\n",
      "Win/lose count 0.5/0. Average score (2.25)\n",
      "Final score: 2.25\n"
     ]
    }
   ],
   "source": [
    "env = Environment(grid_size=size, max_time=T,temperature=0.3)\n",
    "agent_cnn = DQN_CNN(size, lr=.01, epsilon = 0.1, memory_size=2000, batch_size = 32)\n",
    "agent_cnn.load(name_weights='cnn_trainmodel.h5',name_model='cnn_trainmodel.json')\n",
    "\n",
    "agent_fc = DQN_FC(size, lr=.1, epsilon = 0.3, memory_size=2000, batch_size = 32)\n",
    "agent_fc.load(name_weights='fc_trainmodel.h5',name_model='fc_trainmodel.json')\n",
    "print('Test of the CNN')\n",
    "test(agent_cnn,env,epochs_test,prefix='cnn_test')\n",
    "print('Test of the FC')\n",
    "test(agent_fc,env,epochs_test,prefix='fc_test')"
   ]
  },
  {
   "cell_type": "code",
   "execution_count": 44,
   "metadata": {},
   "outputs": [
    {
     "data": {
      "text/html": [
       "<video alt=\"test\" controls>\n",
       "                <source src=\"data:video/mp4;base64,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\" type=\"video/mp4\" />\n",
       "             </video>"
      ],
      "text/plain": [
       "<IPython.core.display.HTML object>"
      ]
     },
     "execution_count": 44,
     "metadata": {},
     "output_type": "execute_result"
    }
   ],
   "source": [
    "HTML(display_videos('cnn_test0.mp4'))"
   ]
  },
  {
   "cell_type": "code",
   "execution_count": 45,
   "metadata": {},
   "outputs": [
    {
     "data": {
      "text/html": [
       "<video alt=\"test\" controls>\n",
       "                <source src=\"data:video/mp4;base64,AAAAIGZ0eXBpc29tAAACAGlzb21pc28yYXZjMW1wNDEAAAAIZnJlZQAAFs9tZGF0AAACrQYF//+p3EXpvebZSLeWLNgg2SPu73gyNjQgLSBjb3JlIDE0NiByMjUzOCAxMjEzOTZjIC0gSC4yNjQvTVBFRy00IEFWQyBjb2RlYyAtIENvcHlsZWZ0IDIwMDMtMjAxNSAtIGh0dHA6Ly93d3cudmlkZW9sYW4ub3JnL3gyNjQuaHRtbCAtIG9wdGlvbnM6IGNhYmFjPTEgcmVmPTMgZGVibG9jaz0xOjA6MCBhbmFseXNlPTB4MzoweDExMyBtZT1oZXggc3VibWU9NyBwc3k9MSBwc3lfcmQ9MS4wMDowLjAwIG1peGVkX3JlZj0xIG1lX3JhbmdlPTE2IGNocm9tYV9tZT0xIHRyZWxsaXM9MSA4eDhkY3Q9MSBjcW09MCBkZWFkem9uZT0yMSwxMSBmYXN0X3Bza2lwPTEgY2hyb21hX3FwX29mZnNldD00IHRocmVhZHM9NiBsb29rYWhlYWRfdGhyZWFkcz0xIHNsaWNlZF90aHJlYWRzPTAgbnI9MCBkZWNpbWF0ZT0xIGludGVybGFjZWQ9MCBibHVyYXlfY29tcGF0PTAgY29uc3RyYWluZWRfaW50cmE9MCBiZnJhbWVzPTMgYl9weXJhbWlkPTIgYl9hZGFwdD0xIGJfYmlhcz0wIGRpcmVjdD0xIHdlaWdodGI9MSBvcGVuX2dvcD0wIHdlaWdodHA9MiBrZXlpbnQ9MjUwIGtleWludF9taW49MjUgc2NlbmVjdXQ9NDAgaW50cmFfcmVmcmVzaD0wIHJjX2xvb2thaGVhZD00MCByYz1jcmYgbWJ0cmVlPTEgY3JmPTIzLjAgcWNvbXA9MC42MCBxcG1pbj0wIHFwbWF4PTY5IHFwc3RlcD00IGlwX3JhdGlvPTEuNDAgYXE9MToxLjAwAIAAAAMSZYiEADv//vb8/AptUwndP/9P+VxN2UIE1zAALTEAIgTYlI7FKYvwKUU8/ApmttTszdzkprIz4BMSSldz8B7QuXncSYh36JI7cSNBpK2rcj+/9EO9+8C+/sId96mvV3qNRxMb9AytexqGmMghab+ziiTW9GTNC+MeYRxoC9OuCE/iwrgjeNiozYxUuAq6e93hXzntU4zMEVt8wQlEPKxfBTuNq+OmYXhq/nFZ5pldGEBTu0ry9jp+u+PFkJGP+OEibqPVwqQI04Jvjz4md/7bXgPP0dBWRK2x3r+xeZSHc0fUXE/Iql9abtMBkRQxv1xyuCsIt3BBi6da/bkFeoRY0CxMvoK6A+Y2E9NgV0qHiMNp3uYNCp6r1H2GzN2JyrJgfmJPmgYiId3nzr/9J7TQqXHPlS8Ltr8mIHIMaB21uFhcB5CCziHfywFs43HeSapkCm1pWM1C48vvAjJ/RnVmrBNBPq+77PM6YgWg3x09WgICNpiMXWwQkMkyFfa7GMqGUFc+X/57LVCyVdhm3/i5MfqE6BtmrSh4g/6PYk+XBEj6aKERher8YMPKaRaLpsdBsSlaRxrjhT0bsjEgnhfx3I5UKqbltABzTrDRaolKSl06/rxbRJk5GpxK3nv0rFkhF4lk5c3UR54AqbuGsNaH5ojpVUIkGJxbC+ePjWmkJ6RhW3Tkw0+BCDv2K8+PsarFIPvWbb2TphkYrcc5wvFH+Mlnj2U3lCJuj1EntbX9hLHhQxYOZEgdRKgXw6vI2oTeTX1zKYDq8d1WwjoeOIbtB473OtmGxqmOMjOZsYXrisp+cZ3VrBuDi7iEuLa9BgsclV6dMIbBlvEgY+tpvNFwoDfdMP8O/Sv+gNdKYmwmcOcFzVG/9IZ++8Z45UYkiJ7UWnIAs3uu9q+5J2F/6uQow+iYGHYEGKXN4W0dNnrxt4axkjlRFEJxZ3yAlJRDeDsH9xayiL+XnqOxvR4dttr/iRR2sx5H5EZLHXeBBq86/cI+bzSfQ6KtLwhT03YuEj9yBXg6Oh7WsUFe0RYAABsMAETBAAAAGkGaJGxDf/6nhAAIN9HPkmnWK25MSoDIyLn+AAAAFEGeQniF/wAE+Y23XByuRYHu8+rBAAAAEAGeYXRCvwAGweTeVsoe9EAAAAAQAZ5jakK/AARWV0VWcfgvYQAAABpBmmVJqEFomUwId//+qZYAAqXyDNAHpL7cEQAAACxBmolJ4QpSZTAhv/6nhAAMT7KwxPrXsviD/yJ//hKfQr//zust/F2Nw+8K6wAAABZBnqdFNEwv/wAHQTZCuAHzEWZCi7enAAAAEAGexnRCvwAGck0InxZinJgAAAAQAZ7IakK/AAnyjRMiaVoXwAAAACFBms1JqEFomUwIZ//+nhAAbH19/QsWc8yyz59sVeRgwb8AAAARQZ7rRREsL/8AEFz7cmzBpggAAAAQAZ8KdEK/AA6EZkR2LMUn6AAAAA8BnwxqQr8AFrja7vu+FCEAAAAZQZsOSahBbJlMCGf//p4QAEdEOP54L+SLVQAAABdBmy9J4QpSZTAhn/6eEABJRDj4F81zBQAAABlBm1BJ4Q6JlMCG//6nhAAS746fUcaEh1lAAAAAGUGbcUnhDyZTAhv//qeEAAyLq0ghE/y3tYAAAAAZQZuSSeEPJlMCHf/+qZYABnoLKzPISkNOBQAAABZBm7ZJ4Q8mUwId//6plgAGq+FH3SZgAAAAFEGf1EURPC//AAfD19B5qiPmIjRJAAAAEAGf83RCvwAKzaO8rZQ9mYEAAAAQAZ/1akK/AArKjRMiaVoQQAAAABNBm/pJqEFomUwId//+qZYAAJWBAAAAEUGeGEURLC//AAeaJbn64xSBAAAAEAGeN3RCvwAKzaO8rZQ9mYAAAAAQAZ45akK/AArKjRMiaVoQQQAAABNBmj5JqEFsmUwId//+qZYAAJWAAAAAEUGeXEUVLC//AAeaJbn64xSBAAAAEAGee3RCvwAKzaO8rZQ9mYEAAAAQAZ59akK/AArKjRMiaVoQQAAAABNBmmJJqEFsmUwId//+qZYAAJWAAAAAEUGegEUVLC//AAeaJbn64xSBAAAAEAGev3RCvwAKzaO8rZQ9mYAAAAAQAZ6hakK/AArKjRMiaVoQQQAAABNBmqZJqEFsmUwId//+qZYAAJWAAAAAEUGexEUVLC//AAeaJbn64xSBAAAAEAGe43RCvwAKzaO8rZQ9mYEAAAAQAZ7lakK/AArKjRMiaVoQQQAAABNBmupJqEFsmUwId//+qZYAAJWBAAAAEUGfCEUVLC//AAeaJbn64xSAAAAAEAGfJ3RCvwAKzaO8rZQ9mYAAAAAQAZ8pakK/AArKjRMiaVoQQQAAABNBmy5JqEFsmUwId//+qZYAAJWAAAAAEUGfTEUVLC//AAeaJbn64xSAAAAAEAGfa3RCvwAKzaO8rZQ9mYEAAAAQAZ9takK/AArKjRMiaVoQQQAAABNBm3JJqEFsmUwId//+qZYAAJWBAAAAEUGfkEUVLC//AAeaJbn64xSAAAAAEAGfr3RCvwAKzaO8rZQ9mYAAAAAQAZ+xakK/AArKjRMiaVoQQQAAABNBm7ZJqEFsmUwId//+qZYAAJWAAAAAEUGf1EUVLC//AAeaJbn64xSAAAAAEAGf83RCvwAKzaO8rZQ9mYEAAAAQAZ/1akK/AArKjRMiaVoQQAAAABNBm/pJqEFsmUwId//+qZYAAJWBAAAAEUGeGEUVLC//AAeaJbn64xSBAAAAEAGeN3RCvwAKzaO8rZQ9mYAAAAAQAZ45akK/AArKjRMiaVoQQQAAABNBmj5JqEFsmUwId//+qZYAAJWAAAAAEUGeXEUVLC//AAeaJbn64xSBAAAAEAGee3RCvwAKzaO8rZQ9mYEAAAAQAZ59akK/AArKjRMiaVoQQAAAABNBmmJJqEFsmUwId//+qZYAAJWAAAAAEUGegEUVLC//AAeaJbn64xSBAAAAEAGev3RCvwAKzaO8rZQ9mYAAAAAQAZ6hakK/AArKjRMiaVoQQQAAABNBmqZJqEFsmUwId//+qZYAAJWAAAAAEUGexEUVLC//AAeaJbn64xSBAAAAEAGe43RCvwAKzaO8rZQ9mYEAAAAQAZ7lakK/AArKjRMiaVoQQQAAABNBmupJqEFsmUwId//+qZYAAJWBAAAAEUGfCEUVLC//AAeaJbn64xSAAAAAEAGfJ3RCvwAKzaO8rZQ9mYAAAAAQAZ8pakK/AArKjRMiaVoQQQAAABNBmy5JqEFsmUwId//+qZYAAJWAAAAAEUGfTEUVLC//AAeaJbn64xSAAAAAEAGfa3RCvwAKzaO8rZQ9mYEAAAAQAZ9takK/AArKjRMiaVoQQQAAABNBm3JJqEFsmUwId//+qZYAAJWBAAAAEUGfkEUVLC//AAeaJbn64xSAAAAAEAGfr3RCvwAKzaO8rZQ9mYAAAAAQAZ+xakK/AArKjRMiaVoQQQAAABNBm7ZJqEFsmUwId//+qZYAAJWAAAAAEUGf1EUVLC//AAeaJbn64xSAAAAAEAGf83RCvwAKzaO8rZQ9mYEAAAAQAZ/1akK/AArKjRMiaVoQQAAAABNBm/pJqEFsmUwId//+qZYAAJWBAAAAEUGeGEUVLC//AAeaJbn64xSBAAAAEAGeN3RCvwAKzaO8rZQ9mYAAAAAQAZ45akK/AArKjRMiaVoQQQAAABNBmj5JqEFsmUwId//+qZYAAJWAAAAAEUGeXEUVLC//AAeaJbn64xSBAAAAEAGee3RCvwAKzaO8rZQ9mYEAAAAQAZ59akK/AArKjRMiaVoQQAAAABNBmmJJqEFsmUwId//+qZYAAJWAAAAAEUGegEUVLC//AAeaJbn64xSBAAAAEAGev3RCvwAKzaO8rZQ9mYAAAAAQAZ6hakK/AArKjRMiaVoQQQAAABNBmqZJqEFsmUwId//+qZYAAJWAAAAAEUGexEUVLC//AAeaJbn64xSBAAAAEAGe43RCvwAKzaO8rZQ9mYEAAAAQAZ7lakK/AArKjRMiaVoQQQAAABNBmupJqEFsmUwId//+qZYAAJWBAAAAEUGfCEUVLC//AAeaJbn64xSAAAAAEAGfJ3RCvwAKzaO8rZQ9mYAAAAAQAZ8pakK/AArKjRMiaVoQQQAAABNBmy5JqEFsmUwId//+qZYAAJWAAAAAEUGfTEUVLC//AAeaJbn64xSAAAAAEAGfa3RCvwAKzaO8rZQ9mYEAAAAQAZ9takK/AArKjRMiaVoQQQAAABNBm3JJqEFsmUwId//+qZYAAJWBAAAAEUGfkEUVLC//AAeaJbn64xSAAAAAEAGfr3RCvwAKzaO8rZQ9mYAAAAAQAZ+xakK/AArKjRMiaVoQQQAAABNBm7ZJqEFsmUwId//+qZYAAJWAAAAAEUGf1EUVLC//AAeaJbn64xSAAAAAEAGf83RCvwAKzaO8rZQ9mYEAAAAQAZ/1akK/AArKjRMiaVoQQAAAABNBm/pJqEFsmUwId//+qZYAAJWBAAAAEUGeGEUVLC//AAeaJbn64xSBAAAAEAGeN3RCvwAKzaO8rZQ9mYAAAAAQAZ45akK/AArKjRMiaVoQQQAAABNBmj5JqEFsmUwId//+qZYAAJWAAAAAEUGeXEUVLC//AAeaJbn64xSBAAAAEAGee3RCvwAKzaO8rZQ9mYEAAAAQAZ59akK/AArKjRMiaVoQQAAAABNBmmJJqEFsmUwId//+qZYAAJWAAAAAEUGegEUVLC//AAeaJbn64xSBAAAAEAGev3RCvwAKzaO8rZQ9mYAAAAAQAZ6hakK/AArKjRMiaVoQQQAAABNBmqZJqEFsmUwId//+qZYAAJWAAAAAEUGexEUVLC//AAeaJbn64xSBAAAAEAGe43RCvwAKzaO8rZQ9mYEAAAAQAZ7lakK/AArKjRMiaVoQQQAAABNBmupJqEFsmUwId//+qZYAAJWBAAAAEUGfCEUVLC//AAeaJbn64xSAAAAAEAGfJ3RCvwAKzaO8rZQ9mYAAAAAQAZ8pakK/AArKjRMiaVoQQQAAABNBmy5JqEFsmUwId//+qZYAAJWAAAAAEUGfTEUVLC//AAeaJbn64xSAAAAAEAGfa3RCvwAKzaO8rZQ9mYEAAAAQAZ9takK/AArKjRMiaVoQQQAAABNBm3JJqEFsmUwId//+qZYAAJWBAAAAEUGfkEUVLC//AAeaJbn64xSAAAAAEAGfr3RCvwAKzaO8rZQ9mYAAAAAQAZ+xakK/AArKjRMiaVoQQQAAABNBm7ZJqEFsmUwId//+qZYAAJWAAAAAEUGf1EUVLC//AAeaJbn64xSAAAAAEAGf83RCvwAKzaO8rZQ9mYEAAAAQAZ/1akK/AArKjRMiaVoQQAAAABNBm/pJqEFsmUwId//+qZYAAJWBAAAAEUGeGEUVLC//AAeaJbn64xSBAAAAEAGeN3RCvwAKzaO8rZQ9mYAAAAAQAZ45akK/AArKjRMiaVoQQQAAABNBmj5JqEFsmUwId//+qZYAAJWAAAAAEUGeXEUVLC//AAeaJbn64xSBAAAAEAGee3RCvwAKzaO8rZQ9mYEAAAAQAZ59akK/AArKjRMiaVoQQAAAABNBmmJJqEFsmUwId//+qZYAAJWAAAAAEUGegEUVLC//AAeaJbn64xSBAAAAEAGev3RCvwAKzaO8rZQ9mYAAAAAQAZ6hakK/AArKjRMiaVoQQQAAABNBmqZJqEFsmUwId//+qZYAAJWAAAAAEUGexEUVLC//AAeaJbn64xSBAAAAEAGe43RCvwAKzaO8rZQ9mYEAAAAQAZ7lakK/AArKjRMiaVoQQQAAABNBmupJqEFsmUwId//+qZYAAJWBAAAAEUGfCEUVLC//AAeaJbn64xSAAAAAEAGfJ3RCvwAKzaO8rZQ9mYAAAAAQAZ8pakK/AArKjRMiaVoQQQAAABNBmy5JqEFsmUwId//+qZYAAJWAAAAAEUGfTEUVLC//AAeaJbn64xSAAAAAEAGfa3RCvwAKzaO8rZQ9mYEAAAAQAZ9takK/AArKjRMiaVoQQQAAABNBm3JJqEFsmUwId//+qZYAAJWBAAAAEUGfkEUVLC//AAeaJbn64xSAAAAAEAGfr3RCvwAKzaO8rZQ9mYAAAAAQAZ+xakK/AArKjRMiaVoQQQAAABNBm7ZJqEFsmUwId//+qZYAAJWAAAAAEUGf1EUVLC//AAeaJbn64xSAAAAAEAGf83RCvwAKzaO8rZQ9mYEAAAAQAZ/1akK/AArKjRMiaVoQQAAAABNBm/pJqEFsmUwId//+qZYAAJWBAAAAEUGeGEUVLC//AAeaJbn64xSBAAAAEAGeN3RCvwAKzaO8rZQ9mYAAAAAQAZ45akK/AArKjRMiaVoQQQAAABNBmj5JqEFsmUwId//+qZYAAJWAAAAAEUGeXEUVLC//AAeaJbn64xSBAAAAEAGee3RCvwAKzaO8rZQ9mYEAAAAQAZ59akK/AArKjRMiaVoQQAAAABJBmmJJqEFsmUwIb//+p4QAAScAAAARQZ6ARRUsL/8AB5olufrjFIEAAAAQAZ6/dEK/AArNo7ytlD2ZgAAAABABnqFqQr8ACsqNEyJpWhBBAAAAEkGapkmoQWyZTAhn//6eEAAEfAAAABFBnsRFFSwv/wAHmiW5+uMUgQAAABABnuN0Qr8ACs2jvK2UPZmBAAAAEAGe5WpCvwAKyo0TImlaEEEAAAAaQZrpS6hCEFskRggoB/IB/YeAIV/+OEAAEXEAAAAkQZ8IQhX/Aq9j7UHE3arDSSblqoYHLLW7zSogoku3NVfMQVXgAAAAEAGfJ2kQrwAKzSjeWCbVRiAAAAxpbW9vdgAAAGxtdmhkAAAAAAAAAAAAAAAAAAAD6AAAH5AAAQAAAQAAAAAAAAAAAAAAAAEAAAAAAAAAAAAAAAAAAAABAAAAAAAAAAAAAAAAAABAAAAAAAAAAAAAAAAAAAAAAAAAAAAAAAAAAAAAAAAAAgAAC5N0cmFrAAAAXHRraGQAAAADAAAAAAAAAAAAAAABAAAAAAAAH5AAAAAAAAAAAAAAAAAAAAAAAAEAAAAAAAAAAAAAAAAAAAABAAAAAAAAAAAAAAAAAABAAAAAARAAAAEQAAAAAAAkZWR0cwAAABxlbHN0AAAAAAAAAAEAAB+QAAAEAAABAAAAAAsLbWRpYQAAACBtZGhkAAAAAAAAAAAAAAAAAAAyAAABlABVxAAAAAAALWhkbHIAAAAAAAAAAHZpZGUAAAAAAAAAAAAAAABWaWRlb0hhbmRsZXIAAAAKtm1pbmYAAAAUdm1oZAAAAAEAAAAAAAAAAAAAACRkaW5mAAAAHGRyZWYAAAAAAAAAAQAAAAx1cmwgAAAAAQAACnZzdGJsAAAAlnN0c2QAAAAAAAAAAQAAAIZhdmMxAAAAAAAAAAEAAAAAAAAAAAAAAAAAAAAAARABEABIAAAASAAAAAAAAAABAAAAAAAAAAAAAAAAAAAAAAAAAAAAAAAAAAAAAAAAAAAAGP//AAAAMGF2Y0MB9AAN/+EAF2f0AA2RmygiEdCAAAADAIAAABkHihTLAQAGaOvjxEhEAAAAGHN0dHMAAAAAAAAAAQAAAMoAAAIAAAAAFHN0c3MAAAAAAAAAAQAAAAEAAAZAY3R0cwAAAAAAAADGAAAAAQAABAAAAAABAAAKAAAAAAEAAAQAAAAAAQAAAAAAAAABAAACAAAAAAEAAAQAAAAAAQAACgAAAAABAAAEAAAAAAEAAAAAAAAAAQAAAgAAAAABAAAKAAAAAAEAAAQAAAAAAQAAAAAAAAABAAACAAAAAAUAAAQAAAAAAQAACgAAAAABAAAEAAAAAAEAAAAAAAAAAQAAAgAAAAABAAAKAAAAAAEAAAQAAAAAAQAAAAAAAAABAAACAAAAAAEAAAoAAAAAAQAABAAAAAABAAAAAAAAAAEAAAIAAAAAAQAACgAAAAABAAAEAAAAAAEAAAAAAAAAAQAAAgAAAAABAAAKAAAAAAEAAAQAAAAAAQAAAAAAAAABAAACAAAAAAEAAAoAAAAAAQAABAAAAAABAAAAAAAAAAEAAAIAAAAAAQAACgAAAAABAAAEAAAAAAEAAAAAAAAAAQAAAgAAAAABAAAKAAAAAAEAAAQAAAAAAQAAAAAAAAABAAACAAAAAAEAAAoAAAAAAQAABAAAAAABAAAAAAAAAAEAAAIAAAAAAQAACgAAAAABAAAEAAAAAAEAAAAAAAAAAQAAAgAAAAABAAAKAAAAAAEAAAQAAAAAAQAAAAAAAAABAAACAAAAAAEAAAoAAAAAAQAABAAAAAABAAAAAAAAAAEAAAIAAAAAAQAACgAAAAABAAAEAAAAAAEAAAAAAAAAAQAAAgAAAAABAAAKAAAAAAEAAAQAAAAAAQAAAAAAAAABAAACAAAAAAEAAAoAAAAAAQAABAAAAAABAAAAAAAAAAEAAAIAAAAAAQAACgAAAAABAAAEAAAAAAEAAAAAAAAAAQAAAgAAAAABAAAKAAAAAAEAAAQAAAAAAQAAAAAAAAABAAACAAAAAAEAAAoAAAAAAQAABAAAAAABAAAAAAAAAAEAAAIAAAAAAQAACgAAAAABAAAEAAAAAAEAAAAAAAAAAQAAAgAAAAABAAAKAAAAAAEAAAQAAAAAAQAAAAAAAAABAAACAAAAAAEAAAoAAAAAAQAABAAAAAABAAAAAAAAAAEAAAIAAAAAAQAACgAAAAABAAAEAAAAAAEAAAAAAAAAAQAAAgAAAAABAAAKAAAAAAEAAAQAAAAAAQAAAAAAAAABAAACAAAAAAEAAAoAAAAAAQAABAAAAAABAAAAAAAAAAEAAAIAAAAAAQAACgAAAAABAAAEAAAAAAEAAAAAAAAAAQAAAgAAAAABAAAKAAAAAAEAAAQAAAAAAQAAAAAAAAABAAACAAAAAAEAAAoAAAAAAQAABAAAAAABAAAAAAAAAAEAAAIAAAAAAQAACgAAAAABAAAEAAAAAAEAAAAAAAAAAQAAAgAAAAABAAAKAAAAAAEAAAQAAAAAAQAAAAAAAAABAAACAAAAAAEAAAoAAAAAAQAABAAAAAABAAAAAAAAAAEAAAIAAAAAAQAACgAAAAABAAAEAAAAAAEAAAAAAAAAAQAAAgAAAAABAAAKAAAAAAEAAAQAAAAAAQAAAAAAAAABAAACAAAAAAEAAAoAAAAAAQAABAAAAAABAAAAAAAAAAEAAAIAAAAAAQAACgAAAAABAAAEAAAAAAEAAAAAAAAAAQAAAgAAAAABAAAKAAAAAAEAAAQAAAAAAQAAAAAAAAABAAACAAAAAAEAAAoAAAAAAQAABAAAAAABAAAAAAAAAAEAAAIAAAAAAQAACgAAAAABAAAEAAAAAAEAAAAAAAAAAQAAAgAAAAABAAAKAAAAAAEAAAQAAAAAAQAAAAAAAAABAAACAAAAAAEAAAoAAAAAAQAABAAAAAABAAAAAAAAAAEAAAIAAAAAAQAACgAAAAABAAAEAAAAAAEAAAAAAAAAAQAAAgAAAAABAAAKAAAAAAEAAAQAAAAAAQAAAAAAAAABAAACAAAAAAEAAAoAAAAAAQAABAAAAAABAAAAAAAAAAEAAAIAAAAAAQAACgAAAAABAAAEAAAAAAEAAAAAAAAAAQAAAgAAAAABAAAKAAAAAAEAAAQAAAAAAQAAAAAAAAABAAACAAAAAAEAAAoAAAAAAQAABAAAAAABAAAAAAAAAAEAAAIAAAAAAQAACAAAAAABAAAEAAAAAAEAAAAAAAAAHHN0c2MAAAAAAAAAAQAAAAEAAADKAAAAAQAAAzxzdHN6AAAAAAAAAAAAAADKAAAFxwAAAB4AAAAYAAAAFAAAABQAAAAeAAAAMAAAABoAAAAUAAAAFAAAACUAAAAVAAAAFAAAABMAAAAdAAAAGwAAAB0AAAAdAAAAHQAAABoAAAAYAAAAFAAAABQAAAAXAAAAFQAAABQAAAAUAAAAFwAAABUAAAAUAAAAFAAAABcAAAAVAAAAFAAAABQAAAAXAAAAFQAAABQAAAAUAAAAFwAAABUAAAAUAAAAFAAAABcAAAAVAAAAFAAAABQAAAAXAAAAFQAAABQAAAAUAAAAFwAAABUAAAAUAAAAFAAAABcAAAAVAAAAFAAAABQAAAAXAAAAFQAAABQAAAAUAAAAFwAAABUAAAAUAAAAFAAAABcAAAAVAAAAFAAAABQAAAAXAAAAFQAAABQAAAAUAAAAFwAAABUAAAAUAAAAFAAAABcAAAAVAAAAFAAAABQAAAAXAAAAFQAAABQAAAAUAAAAFwAAABUAAAAUAAAAFAAAABcAAAAVAAAAFAAAABQAAAAXAAAAFQAAABQAAAAUAAAAFwAAABUAAAAUAAAAFAAAABcAAAAVAAAAFAAAABQAAAAXAAAAFQAAABQAAAAUAAAAFwAAABUAAAAUAAAAFAAAABcAAAAVAAAAFAAAABQAAAAXAAAAFQAAABQAAAAUAAAAFwAAABUAAAAUAAAAFAAAABcAAAAVAAAAFAAAABQAAAAXAAAAFQAAABQAAAAUAAAAFwAAABUAAAAUAAAAFAAAABcAAAAVAAAAFAAAABQAAAAXAAAAFQAAABQAAAAUAAAAFwAAABUAAAAUAAAAFAAAABcAAAAVAAAAFAAAABQAAAAXAAAAFQAAABQAAAAUAAAAFwAAABUAAAAUAAAAFAAAABcAAAAVAAAAFAAAABQAAAAXAAAAFQAAABQAAAAUAAAAFwAAABUAAAAUAAAAFAAAABcAAAAVAAAAFAAAABQAAAAXAAAAFQAAABQAAAAUAAAAFwAAABUAAAAUAAAAFAAAABcAAAAVAAAAFAAAABQAAAAWAAAAFQAAABQAAAAUAAAAFgAAABUAAAAUAAAAFAAAAB4AAAAoAAAAFAAAABRzdGNvAAAAAAAAAAEAAAAwAAAAYnVkdGEAAABabWV0YQAAAAAAAAAhaGRscgAAAAAAAAAAbWRpcmFwcGwAAAAAAAAAAAAAAAAtaWxzdAAAACWpdG9vAAAAHWRhdGEAAAABAAAAAExhdmY1Ni4zNi4xMDA=\" type=\"video/mp4\" />\n",
       "             </video>"
      ],
      "text/plain": [
       "<IPython.core.display.HTML object>"
      ]
     },
     "execution_count": 45,
     "metadata": {},
     "output_type": "execute_result"
    }
   ],
   "source": [
    "HTML(display_videos('fc_test0.mp4'))"
   ]
  },
  {
   "cell_type": "markdown",
   "metadata": {},
   "source": [
    "**Architecture**:The CNN performs much better than the fully connected model. However, it still tends to not explore the map as necessary. Increasing the value of epsilon to increase exploration does not improve the results.\n",
    "\n",
    "**Temperature**:  The performance of both is drastically better when the temperature is increased. However, this is not an accurate representation of the score, as increasing the temperature means increasing the availability of cheese and descreasing the poisonous cells."
   ]
  },
  {
   "cell_type": "markdown",
   "metadata": {},
   "source": [
    "***\n",
    "\n",
    "The algorithm tends to not explore the map which can be an issue. We propose two ideas in order to encourage exploration:\n",
    "1. Incorporating a decreasing $\\epsilon$-greedy exploration. You can use the method ```set_epsilon```\n",
    "2. Append via the environment a new state that describes if a cell has been visited or not\n",
    "\n",
    "***\n",
    "__Question 10__ Design a new ```train_explore``` function and environment class ```EnvironmentExploring``` to tackle the issue of exploration.\n",
    "\n"
   ]
  },
  {
   "cell_type": "code",
   "execution_count": 29,
   "metadata": {},
   "outputs": [],
   "source": [
    "def train_explore(agent,env,epoch,prefix=''):\n",
    "    # Number of won games\n",
    "    score = 0\n",
    "    loss = 0\n",
    "\n",
    "    for e in range(epoch):\n",
    "        # At each epoch, we restart to a fresh game and get the initial state\n",
    "        state = env.reset()\n",
    "        # This assumes that the games will terminate\n",
    "        game_over = False\n",
    "\n",
    "        win = 0\n",
    "        lose = 0\n",
    "        #agent.set_epsilon(agent.epsilon*0.9)\n",
    "        while not game_over:\n",
    "            # The agent performs an action\n",
    "            \n",
    "            agent.set_epsilon(np.float(agent.epsilon*0.99))\n",
    "            action = agent.act(state)\n",
    "\n",
    "            # Apply an action to the environment, get the next state, the reward\n",
    "            # and if the games end\n",
    "            prev_state = state\n",
    "            state, reward, game_over = env.act(action, train=True)\n",
    "\n",
    "            # Update the counters\n",
    "            if reward > 0:\n",
    "                win = win + reward\n",
    "            if reward < 0:\n",
    "                lose = lose -reward\n",
    "\n",
    "            # Apply the reinforcement strategy\n",
    "            loss = agent.reinforce(prev_state, state,  action, reward, game_over)\n",
    "\n",
    "        # Save as a mp4\n",
    "        if e % 10 == 0:\n",
    "            env.draw(prefix+str(e))\n",
    "            \n",
    "        # Update stats\n",
    "        score += win-lose\n",
    "\n",
    "        print(\"Epoch {:03d}/{:03d} | Loss {:.4f} | Win/lose count {:.2f}/{:.2f} ({:.2f})\"\n",
    "              .format(e, epoch, loss, win, lose, win-lose))\n",
    "        agent.save(name_weights=prefix+'model.h5',name_model=prefix+'model.json')\n",
    "        \n",
    "    \n",
    "class EnvironmentExploring(object):\n",
    "    def __init__(self, grid_size=10, max_time=500, temperature=0.1):\n",
    "        grid_size = grid_size+4\n",
    "        self.grid_size = grid_size\n",
    "        self.max_time = max_time\n",
    "        self.temperature = temperature\n",
    "\n",
    "        #board on which one plays\n",
    "        self.board = np.zeros((grid_size,grid_size))\n",
    "        self.position = np.zeros((grid_size,grid_size))\n",
    "        self.malus_position = np.zeros((grid_size,grid_size)) #define maluses when going to a previously visited position\n",
    "        # coordinate of the cat\n",
    "        self.x = 0\n",
    "        self.y = 1\n",
    "\n",
    "        # self time\n",
    "        self.t = 0\n",
    "\n",
    "        self.scale=16\n",
    "\n",
    "        self.to_draw = np.zeros((max_time+2, grid_size*self.scale, grid_size*self.scale, 3))\n",
    "        \n",
    "    def draw(self,e):\n",
    "        skvideo.io.vwrite(str(e) + '.mp4', self.to_draw)\n",
    "\n",
    "    def get_frame(self,t):\n",
    "        b = np.zeros((self.grid_size,self.grid_size,3))+128\n",
    "        b[self.board>0,0] = 256\n",
    "        b[self.board < 0, 2] = 256\n",
    "        b[self.x,self.y,:]=256\n",
    "        b[-2:,:,:]=0\n",
    "        b[:,-2:,:]=0\n",
    "        b[:2,:,:]=0\n",
    "        b[:,:2,:]=0\n",
    "        \n",
    "        b =  cv2.resize(b, None, fx=self.scale, fy=self.scale, interpolation=cv2.INTER_NEAREST)\n",
    "\n",
    "        self.to_draw[t,:,:,:]=b\n",
    "\n",
    "\n",
    "    def act(self, action,train=True):\n",
    "        \"\"\"This function returns the new state, reward and decides if the\n",
    "        game ends.\"\"\"\n",
    "\n",
    "        self.get_frame(int(self.t))\n",
    "\n",
    "        self.position = np.zeros((self.grid_size, self.grid_size))\n",
    "\n",
    "        self.position[0:2,:]= -1\n",
    "        self.position[:,0:2] = -1\n",
    "        self.position[-2:, :] = -1\n",
    "        self.position[:, -2:] = -1\n",
    "\n",
    "        self.position[self.x, self.y] = 1\n",
    "        if action == 0:\n",
    "            if self.x == self.grid_size-3:\n",
    "                self.x = self.x-1\n",
    "            else:\n",
    "                self.x = self.x + 1\n",
    "        elif action == 1:\n",
    "            if self.x == 2:\n",
    "                self.x = self.x+1\n",
    "            else:\n",
    "                self.x = self.x-1\n",
    "        elif action == 2:\n",
    "            if self.y == self.grid_size - 3:\n",
    "                self.y = self.y - 1\n",
    "            else:\n",
    "                self.y = self.y + 1\n",
    "        elif action == 3:\n",
    "            if self.y == 2:\n",
    "                self.y = self.y + 1\n",
    "            else:\n",
    "                self.y = self.y - 1\n",
    "        else:\n",
    "            RuntimeError('Error: action not recognized')\n",
    "\n",
    "        self.t = self.t + 1     \n",
    "        \n",
    "        ## In Environment exploring:\n",
    "        # You will have to change n_state to 3 because you will use one more layer!\n",
    "        reward = 0\n",
    "        if train:\n",
    "            reward = -self.malus_position[self.x, self.y]\n",
    "        self.malus_position[self.x, self.y] = 0.1\n",
    "        reward = reward + self.board[self.x, self.y]\n",
    "        self.board[self.x, self.y] = 0\n",
    "        game_over = self.t > self.max_time\n",
    "        # 3 \"feature\" states instead of 2\n",
    "        state = np.concatenate((self.malus_position.reshape(self.grid_size, self.grid_size,1),\n",
    "                                        self.board.reshape(self.grid_size, self.grid_size,1),\n",
    "                                self.position.reshape(self.grid_size, self.grid_size,1)),axis=2)\n",
    "        state = state[self.x-2:self.x+3,self.y-2:self.y+3,:]\n",
    "\n",
    "        return state, reward, game_over\n",
    "\n",
    "    def reset(self):\n",
    "        \"\"\"This function resets the game and returns the initial state\"\"\"\n",
    "\n",
    "        self.x = np.random.randint(3, self.grid_size-3, size=1)[0]\n",
    "        self.y = np.random.randint(3, self.grid_size-3, size=1)[0]\n",
    "\n",
    "\n",
    "        bonus = 0.5*np.random.binomial(1,self.temperature,size=self.grid_size**2)\n",
    "        bonus = bonus.reshape(self.grid_size,self.grid_size)\n",
    "\n",
    "        malus = -1.0*np.random.binomial(1,self.temperature,size=self.grid_size**2)\n",
    "        malus = malus.reshape(self.grid_size, self.grid_size)\n",
    "\n",
    "        self.to_draw = np.zeros((self.max_time+2, self.grid_size*self.scale, self.grid_size*self.scale, 3))\n",
    "\n",
    "\n",
    "        malus[bonus>0]=0\n",
    "\n",
    "        self.board = bonus + malus\n",
    "        \n",
    "        self.position = np.zeros((self.grid_size, self.grid_size))\n",
    "        self.position[0:2,:]= -1\n",
    "        self.position[:,0:2] = -1\n",
    "        self.position[-2:, :] = -1\n",
    "        self.position[:,-2:] = -1\n",
    "        self.board[self.x,self.y] = 0\n",
    "        self.t = 0\n",
    "\n",
    "        self.malus_position = np.zeros((self.grid_size, self.grid_size))\n",
    "\n",
    "        state = np.concatenate((self.malus_position.reshape(self.grid_size, self.grid_size,1),\n",
    "                                        self.board.reshape(self.grid_size, self.grid_size,1),\n",
    "                                self.position.reshape(self.grid_size, self.grid_size,1)),axis=2)\n",
    "\n",
    "        state = state[self.x - 2:self.x + 3, self.y - 2:self.y + 3, :]\n",
    "        return state\n"
   ]
  },
  {
   "cell_type": "code",
   "execution_count": 30,
   "metadata": {},
   "outputs": [
    {
     "name": "stdout",
     "output_type": "stream",
     "text": [
      "Epoch 000/020 | Loss 0.0106 | Win/lose count 6.50/28.60 (-22.10)\n",
      "Epoch 001/020 | Loss 0.0040 | Win/lose count 2.00/18.10 (-16.10)\n",
      "Epoch 002/020 | Loss 0.0113 | Win/lose count 4.50/20.40 (-15.90)\n",
      "Epoch 003/020 | Loss 0.0084 | Win/lose count 14.50/15.30 (-0.80)\n",
      "Epoch 004/020 | Loss 0.0145 | Win/lose count 15.00/14.50 (0.50)\n",
      "Epoch 005/020 | Loss 0.0180 | Win/lose count 14.00/14.50 (-0.50)\n",
      "Epoch 006/020 | Loss 0.0431 | Win/lose count 21.00/10.10 (10.90)\n",
      "Epoch 007/020 | Loss 0.0121 | Win/lose count 16.00/14.60 (1.40)\n",
      "Epoch 008/020 | Loss 0.0122 | Win/lose count 24.50/9.60 (14.90)\n",
      "Epoch 009/020 | Loss 0.0103 | Win/lose count 25.00/13.50 (11.50)\n",
      "Epoch 010/020 | Loss 0.0188 | Win/lose count 24.50/12.60 (11.90)\n",
      "Epoch 011/020 | Loss 0.0080 | Win/lose count 21.50/13.70 (7.80)\n",
      "Epoch 012/020 | Loss 0.0058 | Win/lose count 19.50/12.60 (6.90)\n",
      "Epoch 013/020 | Loss 0.0156 | Win/lose count 20.50/10.60 (9.90)\n",
      "Epoch 014/020 | Loss 0.0103 | Win/lose count 17.50/11.10 (6.40)\n",
      "Epoch 015/020 | Loss 0.0092 | Win/lose count 26.00/10.10 (15.90)\n",
      "Epoch 016/020 | Loss 0.0137 | Win/lose count 10.50/17.10 (-6.60)\n",
      "Epoch 017/020 | Loss 0.0114 | Win/lose count 27.00/10.60 (16.40)\n",
      "Epoch 018/020 | Loss 0.0321 | Win/lose count 19.50/14.90 (4.60)\n",
      "Epoch 019/020 | Loss 0.0058 | Win/lose count 22.50/12.50 (10.00)\n"
     ]
    },
    {
     "data": {
      "text/html": [
       "<video alt=\"test\" controls>\n",
       "                <source src=\"data:video/mp4;base64,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\" type=\"video/mp4\" />\n",
       "             </video>"
      ],
      "text/plain": [
       "<IPython.core.display.HTML object>"
      ]
     },
     "execution_count": 30,
     "metadata": {},
     "output_type": "execute_result"
    }
   ],
   "source": [
    "# Training\n",
    "epochs_train = 20\n",
    "env = EnvironmentExploring(grid_size=size, max_time=T, temperature=0.3)\n",
    "agent = DQN_CNN(size, lr=.5, epsilon = 1, memory_size=10000, batch_size = 32,n_state=3)\n",
    "train_explore(agent, env, epochs_train, prefix='cnn_train_explore')\n",
    "HTML(display_videos('cnn_train_explore10.mp4'))"
   ]
  },
  {
   "cell_type": "code",
   "execution_count": 34,
   "metadata": {},
   "outputs": [
    {
     "name": "stdout",
     "output_type": "stream",
     "text": [
      "Win/lose count 22.0/16.99999999999998. Average score (5.000000000000021)\n",
      "Win/lose count 24.0/13.499999999999973. Average score (7.750000000000024)\n",
      "Win/lose count 21.0/14.699999999999964. Average score (7.266666666666695)\n",
      "Win/lose count 6.5/17.999999999999986. Average score (2.575000000000025)\n",
      "Win/lose count 20.0/12.89999999999997. Average score (3.480000000000026)\n",
      "Win/lose count 15.5/15.999999999999961. Average score (2.8166666666666953)\n",
      "Win/lose count 23.0/12.199999999999973. Average score (3.957142857142886)\n",
      "Win/lose count 15.0/14.599999999999964. Average score (3.5125000000000295)\n",
      "Win/lose count 14.0/15.79999999999996. Average score (2.9222222222222527)\n",
      "Win/lose count 24.0/11.19999999999998. Average score (3.9100000000000295)\n",
      "Final score: 3.9100000000000295\n"
     ]
    },
    {
     "data": {
      "text/html": [
       "<video alt=\"test\" controls>\n",
       "                <source src=\"data:video/mp4;base64,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\" type=\"video/mp4\" />\n",
       "             </video>"
      ],
      "text/plain": [
       "<IPython.core.display.HTML object>"
      ]
     },
     "execution_count": 34,
     "metadata": {},
     "output_type": "execute_result"
    }
   ],
   "source": [
    "# Evaluation\n",
    "epochs_test=10\n",
    "test(agent,env,epochs_test,prefix='cnn_test_explore')\n",
    "HTML(display_videos('cnn_test_explore0.mp4'))"
   ]
  },
  {
   "cell_type": "markdown",
   "metadata": {},
   "source": [
    "***\n",
    "***\n",
    "__BONUS question__ Use the expert DQN from the previous question to generate some winning games. Train a model that mimicks its behavior. Compare the performances."
   ]
  },
  {
   "cell_type": "markdown",
   "metadata": {},
   "source": []
  },
  {
   "cell_type": "markdown",
   "metadata": {},
   "source": [
    "***"
   ]
  }
 ],
 "metadata": {
  "kernelspec": {
   "display_name": "Python 3",
   "language": "python",
   "name": "python3"
  },
  "language_info": {
   "codemirror_mode": {
    "name": "ipython",
    "version": 3
   },
   "file_extension": ".py",
   "mimetype": "text/x-python",
   "name": "python",
   "nbconvert_exporter": "python",
   "pygments_lexer": "ipython3",
   "version": "3.6.5"
  }
 },
 "nbformat": 4,
 "nbformat_minor": 2
}
